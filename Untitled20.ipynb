{
 "cells": [
  {
   "cell_type": "code",
   "execution_count": 10,
   "id": "c2cda48f-cae4-4442-81ce-447750fdf3cd",
   "metadata": {},
   "outputs": [
    {
     "name": "stdout",
     "output_type": "stream",
     "text": [
      "Collecting helper\n",
      "  Downloading helper-2.5.0.tar.gz (18 kB)\n",
      "  Preparing metadata (setup.py): started\n",
      "  Preparing metadata (setup.py): finished with status 'done'\n",
      "Requirement already satisfied: pyyaml in c:\\users\\supermercado_2\\anaconda3\\lib\\site-packages (from helper) (6.0.1)\n",
      "Building wheels for collected packages: helper\n",
      "  Building wheel for helper (setup.py): started\n",
      "  Building wheel for helper (setup.py): finished with status 'done'\n",
      "  Created wheel for helper: filename=helper-2.5.0-py2.py3-none-any.whl size=19184 sha256=f86141c49287d95e79f0bc7bfcdf1ebb88d5e0ee156ca367b26b6be149eb5dff\n",
      "  Stored in directory: c:\\users\\supermercado_2\\appdata\\local\\pip\\cache\\wheels\\8b\\ab\\a7\\06bcd4f2d89113bb7b0caaf5562aa209a27863d8cccb07a1bc\n",
      "Successfully built helper\n",
      "Installing collected packages: helper\n",
      "Successfully installed helper-2.5.0\n",
      "Note: you may need to restart the kernel to use updated packages.\n"
     ]
    }
   ],
   "source": [
    "pip install helper "
   ]
  },
  {
   "cell_type": "code",
   "execution_count": 4,
   "id": "5fb02a72-fba4-41cc-b497-c45b419751d8",
   "metadata": {},
   "outputs": [
    {
     "name": "stdout",
     "output_type": "stream",
     "text": [
      "Requirement already satisfied: celery in c:\\users\\supermercado_2\\anaconda3\\lib\\site-packages (5.2.5)\n",
      "Note: you may need to restart the kernel to use updated packages.\n"
     ]
    },
    {
     "name": "stderr",
     "output_type": "stream",
     "text": [
      "ERROR: Could not find a version that satisfies the requirement 7.0.8 (from versions: none)\n",
      "ERROR: No matching distribution found for 7.0.8\n"
     ]
    }
   ],
   "source": [
    "pip install celery 7.0.8"
   ]
  },
  {
   "cell_type": "code",
   "execution_count": null,
   "id": "f4082d22-100b-47f3-9c3b-b515a7dc9a84",
   "metadata": {},
   "outputs": [],
   "source": []
  }
 ],
 "metadata": {
  "kernelspec": {
   "display_name": "Python 3 (ipykernel)",
   "language": "python",
   "name": "python3"
  },
  "language_info": {
   "codemirror_mode": {
    "name": "ipython",
    "version": 3
   },
   "file_extension": ".py",
   "mimetype": "text/x-python",
   "name": "python",
   "nbconvert_exporter": "python",
   "pygments_lexer": "ipython3",
   "version": "3.11.7"
  }
 },
 "nbformat": 4,
 "nbformat_minor": 5
}
